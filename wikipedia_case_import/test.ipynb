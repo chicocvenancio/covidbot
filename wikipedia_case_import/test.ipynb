{
 "cells": [
  {
   "cell_type": "code",
   "execution_count": 1,
   "metadata": {},
   "outputs": [],
   "source": [
    "from bs4 import BeautifulSoup # library to parse HTML documents\n",
    "from datetime import datetime\n",
    "from getpass import getpass\n",
    "import pandas as pd # library for data analysis\n",
    "import requests # library to handle requests\n",
    "import os\n",
    "\n",
    "cases_df = pd.read_csv(\"https://github.com/CSSEGISandData/COVID-19/raw/master/csse_covid_19_data/csse_covid_19_time_series/time_series_covid19_confirmed_global.csv\")\n",
    "\n",
    "last_column = cases_df.columns[-1]\n",
    "def prepare_to_wikidata(cases_df, name=\"cases\"):\n",
    "    last_column = cases_df.columns[-1]\n",
    "    # Get only country-level data\n",
    "    country_level_df = cases_df[[\"Country/Region\", last_column]][cases_df[\"Province/State\"].isna()]\n",
    "\n",
    "    # Check which countries have only an state-level measure and aggregate\n",
    "    state_level = set(cases_df[\"Country/Region\"]) - set(country_level_df[\"Country/Region\"])\n",
    "    cases_df_to_aggregate = cases_df[[\"Province/State\", \"Country/Region\", last_column]][[a in state_level for a in cases_df[\"Country/Region\"]]]\n",
    "\n",
    "    cases_df_to_aggregate = cases_df_to_aggregate.groupby(['Country/Region']).sum()\n",
    "    cases_df_to_aggregate[\"Country/Region\"] = cases_df_to_aggregate.index\n",
    "    country_level_df = country_level_df.append(cases_df_to_aggregate, ignore_index=True)\n",
    "\n",
    "    # Change names for readability\n",
    "    country_level_df.columns = [\"country\", name]\n",
    "\n",
    "\n",
    "    # Fix names to match Wikidata and add outbreak identifiers\n",
    "\n",
    "    local_outbreak_items = pd.read_csv(\"reference.csv\")\n",
    "\n",
    "    template_to_label = {\n",
    "        'Bahamas': 'The Bahamas',\n",
    "        'Burma':\"Myanmar\",\n",
    "        \"Cabo Verde\": \"Cape Verde\",\n",
    "        'China': 'mainland China',\n",
    "        'Congo (Brazzaville)': 'Republic of the Congo',\n",
    "        'Congo (Kinshasa)': 'Democratic Republic of the Congo',\n",
    "        \"Cote d'Ivoire\":\"Ivory Coast\",\n",
    "        \"Czechia\":\"Czech Republic\",\n",
    "        'Gambia': 'The Gambia',\n",
    "        \"Korea, South\": \"South Korea\",\n",
    "        \"Sao Tome and Principe\": \"São Tomé and Príncipe\",\n",
    "        'US': 'United States of America',\n",
    "        \"Taiwan*\":\"Taiwan\",\n",
    "        \"Timor-Leste\":\"East Timor\" \n",
    "    }\n",
    "\n",
    "    country_level_df[\"country\"] = country_level_df[\"country\"].replace(template_to_label)\n",
    "\n",
    "    reconciled = country_level_df.merge(local_outbreak_items, left_on=\"country\", right_on=\"countryLabel\").drop_duplicates()\n",
    "\n",
    "    # Check which entries were not reconciled\n",
    "    print(\"Not reconciled:\")\n",
    "    print(set(country_level_df[\"country\"]) - set(reconciled[\"country\"]))\n",
    "\n",
    "    return reconciled"
   ]
  },
  {
   "cell_type": "code",
   "execution_count": 2,
   "metadata": {},
   "outputs": [
    {
     "output_type": "stream",
     "name": "stdout",
     "text": [
      "Not reconciled:\n{'Diamond Princess', 'MS Zaandam', 'Holy See', 'West Bank and Gaza'}\n"
     ]
    }
   ],
   "source": [
    "reconciled_cases = prepare_to_wikidata(cases_df, name=\"cases\")"
   ]
  },
  {
   "cell_type": "code",
   "execution_count": 3,
   "metadata": {},
   "outputs": [
    {
     "output_type": "stream",
     "name": "stdout",
     "text": [
      "Not reconciled:\n{'Diamond Princess', 'MS Zaandam', 'Holy See', 'West Bank and Gaza'}\n"
     ]
    }
   ],
   "source": [
    "deaths_df = pd.read_csv(\"https://github.com/CSSEGISandData/COVID-19/raw/master/csse_covid_19_data/csse_covid_19_time_series/time_series_covid19_deaths_global.csv\")\n",
    "\n",
    "reconciled_deaths = prepare_to_wikidata(deaths_df, name=\"deaths\")"
   ]
  },
  {
   "cell_type": "code",
   "execution_count": 4,
   "metadata": {},
   "outputs": [
    {
     "output_type": "execute_result",
     "data": {
      "text/plain": [
       "Empty DataFrame\n",
       "Columns: [country, deaths, item, countryLabel, itemLabel]\n",
       "Index: []"
      ],
      "text/html": "<div>\n<style scoped>\n    .dataframe tbody tr th:only-of-type {\n        vertical-align: middle;\n    }\n\n    .dataframe tbody tr th {\n        vertical-align: top;\n    }\n\n    .dataframe thead th {\n        text-align: right;\n    }\n</style>\n<table border=\"1\" class=\"dataframe\">\n  <thead>\n    <tr style=\"text-align: right;\">\n      <th></th>\n      <th>country</th>\n      <th>deaths</th>\n      <th>item</th>\n      <th>countryLabel</th>\n      <th>itemLabel</th>\n    </tr>\n  </thead>\n  <tbody>\n  </tbody>\n</table>\n</div>"
     },
     "metadata": {},
     "execution_count": 4
    }
   ],
   "source": [
    "df = reconciled_deaths\n",
    "ids = df[\"country\"]\n",
    "df[ids.isin(ids[ids.duplicated()])]"
   ]
  },
  {
   "cell_type": "code",
   "execution_count": 5,
   "metadata": {},
   "outputs": [],
   "source": [
    "reconciled = reconciled_cases.merge(reconciled_deaths).drop_duplicates()\n"
   ]
  },
  {
   "cell_type": "code",
   "execution_count": 6,
   "metadata": {},
   "outputs": [
    {
     "output_type": "execute_result",
     "data": {
      "text/plain": [
       "            country   cases       item    countryLabel  \\\n",
       "0       Afghanistan   53984  Q87768605     Afghanistan   \n",
       "1           Albania   67690  Q87450756         Albania   \n",
       "2           Algeria  103833  Q87202921         Algeria   \n",
       "3           Andorra    9083  Q87715843         Andorra   \n",
       "4            Angola   18875  Q88082534          Angola   \n",
       "..              ...     ...        ...             ...   \n",
       "182          Zambia   37605  Q87976629          Zambia   \n",
       "183        Zimbabwe   27203  Q88164033        Zimbabwe   \n",
       "184       Australia   28721  Q83873548       Australia   \n",
       "185          Canada  713181  Q83873580          Canada   \n",
       "186  mainland China   97939  Q83872271  mainland China   \n",
       "\n",
       "                               itemLabel  deaths  \n",
       "0       COVID-19 pandemic in Afghanistan    2339  \n",
       "1           COVID-19 pandemic in Albania    1277  \n",
       "2      2020 COVID-19 pandemic in Algeria    2836  \n",
       "3      2020 COVID-19 pandemic in Andorra      91  \n",
       "4       2020 COVID-19 pandemic in Angola     436  \n",
       "..                                   ...     ...  \n",
       "182     2020 COVID-19 pandemic in Zambia     546  \n",
       "183   2020 COVID-19 pandemic in Zimbabwe     713  \n",
       "184  2020 COVID-19 pandemic in Australia     909  \n",
       "185          COVID-19 pandemic in Canada   18024  \n",
       "186  COVID-19 pandemic in mainland China    4797  \n",
       "\n",
       "[187 rows x 6 columns]"
      ],
      "text/html": "<div>\n<style scoped>\n    .dataframe tbody tr th:only-of-type {\n        vertical-align: middle;\n    }\n\n    .dataframe tbody tr th {\n        vertical-align: top;\n    }\n\n    .dataframe thead th {\n        text-align: right;\n    }\n</style>\n<table border=\"1\" class=\"dataframe\">\n  <thead>\n    <tr style=\"text-align: right;\">\n      <th></th>\n      <th>country</th>\n      <th>cases</th>\n      <th>item</th>\n      <th>countryLabel</th>\n      <th>itemLabel</th>\n      <th>deaths</th>\n    </tr>\n  </thead>\n  <tbody>\n    <tr>\n      <th>0</th>\n      <td>Afghanistan</td>\n      <td>53984</td>\n      <td>Q87768605</td>\n      <td>Afghanistan</td>\n      <td>COVID-19 pandemic in Afghanistan</td>\n      <td>2339</td>\n    </tr>\n    <tr>\n      <th>1</th>\n      <td>Albania</td>\n      <td>67690</td>\n      <td>Q87450756</td>\n      <td>Albania</td>\n      <td>COVID-19 pandemic in Albania</td>\n      <td>1277</td>\n    </tr>\n    <tr>\n      <th>2</th>\n      <td>Algeria</td>\n      <td>103833</td>\n      <td>Q87202921</td>\n      <td>Algeria</td>\n      <td>2020 COVID-19 pandemic in Algeria</td>\n      <td>2836</td>\n    </tr>\n    <tr>\n      <th>3</th>\n      <td>Andorra</td>\n      <td>9083</td>\n      <td>Q87715843</td>\n      <td>Andorra</td>\n      <td>2020 COVID-19 pandemic in Andorra</td>\n      <td>91</td>\n    </tr>\n    <tr>\n      <th>4</th>\n      <td>Angola</td>\n      <td>18875</td>\n      <td>Q88082534</td>\n      <td>Angola</td>\n      <td>2020 COVID-19 pandemic in Angola</td>\n      <td>436</td>\n    </tr>\n    <tr>\n      <th>...</th>\n      <td>...</td>\n      <td>...</td>\n      <td>...</td>\n      <td>...</td>\n      <td>...</td>\n      <td>...</td>\n    </tr>\n    <tr>\n      <th>182</th>\n      <td>Zambia</td>\n      <td>37605</td>\n      <td>Q87976629</td>\n      <td>Zambia</td>\n      <td>2020 COVID-19 pandemic in Zambia</td>\n      <td>546</td>\n    </tr>\n    <tr>\n      <th>183</th>\n      <td>Zimbabwe</td>\n      <td>27203</td>\n      <td>Q88164033</td>\n      <td>Zimbabwe</td>\n      <td>2020 COVID-19 pandemic in Zimbabwe</td>\n      <td>713</td>\n    </tr>\n    <tr>\n      <th>184</th>\n      <td>Australia</td>\n      <td>28721</td>\n      <td>Q83873548</td>\n      <td>Australia</td>\n      <td>2020 COVID-19 pandemic in Australia</td>\n      <td>909</td>\n    </tr>\n    <tr>\n      <th>185</th>\n      <td>Canada</td>\n      <td>713181</td>\n      <td>Q83873580</td>\n      <td>Canada</td>\n      <td>COVID-19 pandemic in Canada</td>\n      <td>18024</td>\n    </tr>\n    <tr>\n      <th>186</th>\n      <td>mainland China</td>\n      <td>97939</td>\n      <td>Q83872271</td>\n      <td>mainland China</td>\n      <td>COVID-19 pandemic in mainland China</td>\n      <td>4797</td>\n    </tr>\n  </tbody>\n</table>\n<p>187 rows × 6 columns</p>\n</div>"
     },
     "metadata": {},
     "execution_count": 6
    }
   ],
   "source": [
    "reconciled"
   ]
  },
  {
   "cell_type": "code",
   "execution_count": 7,
   "metadata": {},
   "outputs": [],
   "source": [
    "import pywikibot\n",
    "from datetime import datetime"
   ]
  },
  {
   "cell_type": "code",
   "execution_count": 14,
   "metadata": {},
   "outputs": [],
   "source": [
    "manual_list = []\n",
    "\n",
    "# Items that are being manually curated\n",
    "#\n",
    "# - COVID-19 pandemic in Indonesia (Q86913546)\n",
    "#\n",
    "# Current mantainer: ?\n",
    "# See: https://www.wikidata.org/wiki/User_talk:TiagoLubiana#Destructive_edit\n",
    "\n",
    "indonesia = \"Q86913546\"\n",
    "manual_list.append(indonesia)\n",
    "\n",
    "# - 2020 COVID-19 pandemic in Luxembourg (Q87250860)\n",
    "#\n",
    "# Current mantainer: https://www.wikidata.org/wiki/User:Sultan_Edijingo\n",
    "# See: https://www.wikidata.org/wiki/User_talk:TiagoLubiana#Destructive_edit\n",
    "# and  https://www.wikidata.org/wiki/Wikidata:Requests_for_permissions/Bot/CovidDatahubBot#Q87250860%3A_destructive_edits\n",
    "\n",
    "luxembourg = \"Q87250860\"\n",
    "manual_list.append(luxembourg)\n",
    "\n",
    "\n",
    "# - COVID-19 pandemic in Taiwan (Q84081307)\n",
    "#\n",
    "# Current mantainer: https://www.wikidata.org/wiki/User:Daxipedia\n",
    "# See: https://www.wikidata.org/wiki/Wikidata:Requests_for_permissions/Bot/CovidDatahubBot#Q87250860%3A_destructive_edits\n",
    "\n",
    "taiwan = \"Q84081307\"\n",
    "manual_list.append(taiwan)\n",
    "\n",
    "\n",
    "# - 2020 COVID-19 pandemic in Hungary (Q87119811)\n",
    "#\n",
    "# Current mantainer: https://www.wikidata.org/wiki/User:Bencemac\n",
    "# See: https://www.wikidata.org/wiki/Wikidata:Requests_for_permissions/Bot/CovidDatahubBot#Q87250860%3A_destructive_edits\n",
    "\n",
    "hungary = \"Q87119811\"\n",
    "manual_list.append(hungary)\n",
    "\n",
    "# - 2020 COVID-19 pandemic in Colombia (Q87483673)\n",
    "#\n",
    "# Current mantainer: https://www.wikidata.org/wiki/User:Juli%C3%A1n_L._P%C3%A1ez\n",
    "# See: https://www.wikidata.org/wiki/User_talk:TiagoLubiana#CovidDatahubBot_request\n",
    "\n",
    "colombia = \"Q87483673\"\n",
    "manual_list.append(colombia)"
   ]
  },
  {
   "cell_type": "code",
   "execution_count": 15,
   "metadata": {},
   "outputs": [],
   "source": [
    "last_column_cases = cases_df.columns[-1]\n",
    "last_column_deaths = deaths_df.columns[-1]"
   ]
  },
  {
   "cell_type": "code",
   "execution_count": 16,
   "metadata": {},
   "outputs": [
    {
     "output_type": "execute_result",
     "data": {
      "text/plain": [
       "True"
      ]
     },
     "metadata": {},
     "execution_count": 16
    }
   ],
   "source": [
    "last_column_cases == last_column_deaths"
   ]
  },
  {
   "cell_type": "code",
   "execution_count": 17,
   "metadata": {},
   "outputs": [],
   "source": [
    "date_of_data = datetime.strptime(last_column_cases, \"%m/%d/%y\")"
   ]
  },
  {
   "cell_type": "code",
   "execution_count": 18,
   "metadata": {},
   "outputs": [
    {
     "output_type": "execute_result",
     "data": {
      "text/plain": [
       "datetime.datetime(2021, 1, 17, 0, 0)"
      ]
     },
     "metadata": {},
     "execution_count": 18
    }
   ],
   "source": [
    "date_of_data"
   ]
  },
  {
   "cell_type": "raw",
   "metadata": {},
   "source": [
    "!python3 /home/lubianat/Documents/wiki_related/pywiki/pywikibot/pwb.py /home/lubianat/Documents/wiki_related/pywiki/pywikibot/login"
   ]
  },
  {
   "cell_type": "code",
   "execution_count": 23,
   "metadata": {},
   "outputs": [
    {
     "output_type": "stream",
     "name": "stdout",
     "text": [
      "Q87768605\n",
      "WARNING: WbQuantity now expects a 'site' parameter. This is needed to ensure correct handling of error bounds.\n",
      "Sleeping for 8.7 seconds, 2021-01-18 10:03:58\n",
      "Sleeping for 8.1 seconds, 2021-01-18 10:04:08\n",
      "WARNING: API warning (wbsetreference) of unknown format: {'messages': [{'name': 'wikibase-conflict-patched', 'parameters': [], 'html': {'*': 'Your edit was patched into the latest version.'}, 'type': 'warning'}]}\n",
      "WARNING: WbQuantity now expects a 'site' parameter. This is needed to ensure correct handling of error bounds.\n",
      "Sleeping for 9.2 seconds, 2021-01-18 10:04:17\n",
      "WARNING: API warning (wbsetclaim) of unknown format: {'messages': [{'name': 'wikibase-conflict-patched', 'parameters': [], 'html': {'*': 'Your edit was patched into the latest version.'}, 'type': 'warning'}]}\n",
      "Sleeping for 9.0 seconds, 2021-01-18 10:04:27\n",
      "Sleeping for 9.1 seconds, 2021-01-18 10:04:37\n"
     ]
    }
   ],
   "source": [
    "\n",
    "site = pywikibot.Site(\"wikidata\", \"wikidata\")\n",
    "repo = site.data_repository()\n",
    "\n",
    "for i, row in reconciled.iterrows():\n",
    "    print(row[\"item\"])\n",
    "\n",
    "    # Skip updates for items that are manually maintained\n",
    "    if row[\"item\"] in manual_list:\n",
    "        continue\n",
    "\n",
    "    item = pywikibot.ItemPage(repo, row[\"item\"])\n",
    "    item.get() #Fetch all page data, and cache it.\n",
    "\n",
    "    # Add number of deaths\n",
    "\n",
    "\n",
    "    ## Value --> death count\n",
    "\n",
    "    deaths_claim = pywikibot.Claim(repo, u'P1120') # Adding number of deaths (P1120)\n",
    "    deaths_claim.setTarget(pywikibot.WbQuantity(row[\"deaths\"])) #Set the target value in the local object.\n",
    "    item.addClaim(deaths_claim, summary=u'Adding death count from template')\n",
    "\n",
    "    ## Qualifier --> date \n",
    "\n",
    "    qualifier = pywikibot.Claim(repo, u'P585') # Adding qualifier of point in time (P585)\n",
    "    target = pywikibot.WbTime(year=int(date_of_data.strftime(\"%Y\")), month=int(date_of_data.strftime(\"%m\")), day=int(date_of_data.strftime(\"%d\")))\n",
    "    qualifier.setTarget(target)\n",
    "    deaths_claim.addQualifier(qualifier, summary=u'Adding date.')\n",
    "\n",
    "\n",
    "\n",
    "    ## Source --> Wikipedia template URL\n",
    "    wiki_url = pywikibot.Claim(repo, u'P854') # reference URL (P854)\n",
    "    wiki_url.setTarget(\"https://github.com/CSSEGISandData/COVID-19\")\n",
    "    \n",
    "    ## Source --> Reference of the article that describes the data\n",
    "    # This is a request on the GitHub repository of the datasource\n",
    "    ref = pywikibot.Claim(repo, u'P248') #stated in (P248)\n",
    "    ref.setTarget(pywikibot.ItemPage(repo, 'Q87456354'))\n",
    "\n",
    "    ## Source --> Retrieved today\n",
    "    today = datetime.today() #Date today\n",
    "    retrieved = pywikibot.Claim(repo, u'P813') #retrieved (P813). Data type: Point in time\n",
    "    retrieved_target = pywikibot.WbTime(year=int(today.strftime(\"%Y\")), month=int(today.strftime(\"%m\")), day=int(today.strftime(\"%d\"))) #retrieved -> %DATE TODAY%. Example retrieved -> 29.11.2020\n",
    "    retrieved.setTarget(retrieved_target) #Inserting value\n",
    "\n",
    "    cases_claim.addSources([ref,wiki_url, retrieved], summary=u'Adding sources.')\n",
    "\n",
    "\n",
    "\n",
    "    # Add number of cases\n",
    "\n",
    "    ## Value --> case count\n",
    "\n",
    "    cases_claim = pywikibot.Claim(repo, u'P1603') # Adding number of cases (P1603)\n",
    "    cases_claim.setTarget(pywikibot.WbQuantity(row[\"cases\"])) #Set the target value in the local object.\n",
    "    item.addClaim(cases_claim, summary=u'Adding case count from template')\n",
    "\n",
    "\n",
    "    ## Qualifier --> date \n",
    "\n",
    "    qualifier = pywikibot.Claim(repo, u'P585') # Adding qualifier of point in time (P585)\n",
    "    today = datetime.today() #Date today\n",
    "    target = pywikibot.WbTime(year=int(today.strftime(\"%Y\")), month=int(today.strftime(\"%m\")), day=int(today.strftime(\"%d\")))\n",
    "    qualifier.setTarget(target)\n",
    "    cases_claim.addQualifier(qualifier, summary=u'Adding date.')\n",
    "\n",
    "\n",
    "    ## Source --> Wikipedia template URL\n",
    "    wiki_url = pywikibot.Claim(repo, u'P854') # reference URL (P854)\n",
    "    wiki_url.setTarget(\"https://github.com/CSSEGISandData/COVID-19\")\n",
    "    \n",
    "    ## Source --> Reference of the article that describes the data\n",
    "    # This is a request on the GitHub repository of the datasource\n",
    "    ref = pywikibot.Claim(repo, u'P248') #stated in (P248)\n",
    "    ref.setTarget(pywikibot.ItemPage(repo, 'Q87456354'))\n",
    "\n",
    "    ## Source --> Retrieved today\n",
    "    today = datetime.today() #Date today\n",
    "    retrieved = pywikibot.Claim(repo, u'P813') #retrieved (P813). Data type: Point in time\n",
    "    retrieved_target = pywikibot.WbTime(year=int(today.strftime(\"%Y\")), month=int(today.strftime(\"%m\")), day=int(today.strftime(\"%d\"))) #retrieved -> %DATE TODAY%. Example retrieved -> 29.11.2020\n",
    "    retrieved.setTarget(retrieved_target) #Inserting value\n",
    "\n",
    "    cases_claim.addSources([ref,wiki_url, retrieved], summary=u'Adding sources.')\n",
    "    \n",
    "\n",
    "    break"
   ]
  },
  {
   "cell_type": "code",
   "execution_count": null,
   "metadata": {},
   "outputs": [],
   "source": []
  }
 ],
 "metadata": {
  "kernelspec": {
   "display_name": "Python 3",
   "language": "python",
   "name": "python3"
  },
  "language_info": {
   "codemirror_mode": {
    "name": "ipython",
    "version": 3
   },
   "file_extension": ".py",
   "mimetype": "text/x-python",
   "name": "python",
   "nbconvert_exporter": "python",
   "pygments_lexer": "ipython3",
   "version": "3.9.0-final"
  }
 },
 "nbformat": 4,
 "nbformat_minor": 4
}